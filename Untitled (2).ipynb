{
 "cells": [
  {
   "cell_type": "code",
   "execution_count": 50,
   "metadata": {},
   "outputs": [],
   "source": [
    "import pandas as pd\n",
    "import numpy as np\n",
    "import matplotlib as plt"
   ]
  },
  {
   "cell_type": "code",
   "execution_count": 78,
   "metadata": {},
   "outputs": [
    {
     "name": "stdout",
     "output_type": "stream",
     "text": [
      "Requirement already satisfied: eli5 in c:\\users\\james\\miniconda3\\lib\\site-packages (0.10.1)\n",
      "Requirement already satisfied: numpy>=1.9.0 in c:\\users\\james\\miniconda3\\lib\\site-packages (from eli5) (1.19.1)\n",
      "Requirement already satisfied: jinja2 in c:\\users\\james\\miniconda3\\lib\\site-packages (from eli5) (2.11.2)\n",
      "Requirement already satisfied: tabulate>=0.7.7 in c:\\users\\james\\miniconda3\\lib\\site-packages (from eli5) (0.8.7)\n",
      "Requirement already satisfied: attrs>16.0.0 in c:\\users\\james\\miniconda3\\lib\\site-packages (from eli5) (20.2.0)\n",
      "Requirement already satisfied: graphviz in c:\\users\\james\\miniconda3\\lib\\site-packages (from eli5) (0.14.1)\n",
      "Requirement already satisfied: six in c:\\users\\james\\miniconda3\\lib\\site-packages (from eli5) (1.14.0)\n",
      "Requirement already satisfied: scikit-learn>=0.18 in c:\\users\\james\\miniconda3\\lib\\site-packages (from eli5) (0.23.2)\n",
      "Requirement already satisfied: scipy in c:\\users\\james\\miniconda3\\lib\\site-packages (from eli5) (1.5.2)\n",
      "Requirement already satisfied: MarkupSafe>=0.23 in c:\\users\\james\\miniconda3\\lib\\site-packages (from jinja2->eli5) (1.1.1)\n",
      "Requirement already satisfied: joblib>=0.11 in c:\\users\\james\\miniconda3\\lib\\site-packages (from scikit-learn>=0.18->eli5) (0.16.0)\n",
      "Requirement already satisfied: threadpoolctl>=2.0.0 in c:\\users\\james\\miniconda3\\lib\\site-packages (from scikit-learn>=0.18->eli5) (2.1.0)\n",
      "Note: you may need to restart the kernel to use updated packages.\n"
     ]
    }
   ],
   "source": [
    "pip install eli5"
   ]
  },
  {
   "cell_type": "code",
   "execution_count": 300,
   "metadata": {},
   "outputs": [],
   "source": [
    "df = pd.read_csv(r'C:\\Users\\james\\AppData\\Local\\Temp\\Temp1_199387_1319582_bundle_archive.zip\\US_Accidents_June20.csv')\n",
    "\n",
    "#Smaller sample\n",
    "df = df.sample(n=100000, random_state=42)"
   ]
  },
  {
   "cell_type": "code",
   "execution_count": 213,
   "metadata": {},
   "outputs": [
    {
     "data": {
      "text/plain": [
       "ID                       100000\n",
       "Source                        3\n",
       "Start_Time                99622\n",
       "End_Time                  99700\n",
       "Description               87545\n",
       "Street                    28209\n",
       "Side                          2\n",
       "City                       5743\n",
       "County                     1169\n",
       "State                        48\n",
       "Zipcode                   33202\n",
       "Country                       1\n",
       "Timezone                      4\n",
       "Airport_Code               1531\n",
       "Weather_Timestamp         72356\n",
       "Wind_Direction               24\n",
       "Weather_Condition            77\n",
       "Sunrise_Sunset                2\n",
       "Civil_Twilight                2\n",
       "Nautical_Twilight             2\n",
       "Astronomical_Twilight         2\n",
       "dtype: int64"
      ]
     },
     "execution_count": 213,
     "metadata": {},
     "output_type": "execute_result"
    }
   ],
   "source": [
    "unique_cats = df.select_dtypes('object').nunique()\n",
    "unique_cats"
   ]
  },
  {
   "cell_type": "code",
   "execution_count": 214,
   "metadata": {},
   "outputs": [
    {
     "data": {
      "text/plain": [
       "['ID',\n",
       " 'Start_Time',\n",
       " 'End_Time',\n",
       " 'Description',\n",
       " 'Street',\n",
       " 'City',\n",
       " 'County',\n",
       " 'Zipcode',\n",
       " 'Airport_Code',\n",
       " 'Weather_Timestamp']"
      ]
     },
     "execution_count": 214,
     "metadata": {},
     "output_type": "execute_result"
    }
   ],
   "source": [
    "#High cardinality categories\n",
    "high_card = [col for col in unique_cats.index if unique_cats[col]>127]\n",
    "high_card"
   ]
  },
  {
   "cell_type": "code",
   "execution_count": 215,
   "metadata": {},
   "outputs": [],
   "source": [
    "def wrangle(X):\n",
    "    X = X.copy()\n",
    "    #Drop high cardinality columns\n",
    "    X.drop(high_card, axis=1, inplace=True)\n",
    "    \n",
    "    #Drop more columns- country and turning loop only have 1 unique value\n",
    "    X.drop(['Turning_Loop', 'Country'], axis=1, inplace=True)\n",
    "    \n",
    "    #Drop columns with high percentage of NaNs\n",
    "    X.drop(['End_Lat', 'End_Lng', 'Number', 'Wind_Chill(F)', 'Precipitation(in)'],axis=1, inplace=True)\n",
    "    \n",
    "    #Putting Times in datetime format\n",
    "    #Add year, month, day, hour, and weekday columns\n",
    "    X['Start_Time']= pd.to_datetime(df['Start_Time'])\n",
    "    X['End_Time']= pd.to_datetime(df['End_Time'])\n",
    "    X['year'] = X['Start_Time'].dt.year\n",
    "    X['month'] = X['Start_Time'].dt.strftime('%b')\n",
    "    X['day'] = X['Start_Time'].dt.day\n",
    "    X['hour'] = X['Start_Time'].dt.hour\n",
    "    X['Weekday']=X['Start_Time'].dt.strftime('%a')\n",
    "    \n",
    "    #Add a season column\n",
    "    date = X.Start_Time.dt.month*100 + X.Start_Time.dt.day\n",
    "    X['Season'] = (pd.cut(date,[0,321,620,922,1220,1300],\n",
    "                       labels=['Winter','Spring','Summer','Autumn','Winter ']).str.strip()\n",
    "               )\n",
    "    X['Season'].replace('Winter ', 'Winter')\n",
    "\n",
    "    X['Traffic_disruption(min)'] = round((X['End_Time'] - X['Start_Time'])/np.timedelta64(1,'m'))\n",
    "    X.drop(['Start_Time', 'End_Time'], axis=1, inplace=True)\n",
    "\n",
    "    td = 'Traffic_disruption(min)'\n",
    "    \n",
    "    #Set negative time values to NaN\n",
    "    X[X[td] <= 0] = np.nan\n",
    "    X.dropna(subset=[td], axis=0, inplace=True)\n",
    "\n",
    "    X = X[(X[td] >= np.percentile(X[td], 0.5)) & \n",
    "        (X[td] <= np.percentile(X[td], 99.5))]\n",
    "    \n",
    "    #Drop features with 0 importance\n",
    "    X.drop(['No_Exit', 'Roundabout', 'Traffic_Calming', 'Bump'], axis=1, inplace=True)\n",
    "    \n",
    "    #Drop features with negative permutation importance\n",
    "    X.drop(['Sunrise_Sunset', 'Wind_Direction', 'Nautical_Twilight'], \n",
    "           axis=1, inplace=True)\n",
    "    \n",
    "    return X"
   ]
  },
  {
   "cell_type": "code",
   "execution_count": 216,
   "metadata": {
    "scrolled": false
   },
   "outputs": [],
   "source": [
    "df = wrangle(df)"
   ]
  },
  {
   "cell_type": "code",
   "execution_count": 217,
   "metadata": {},
   "outputs": [
    {
     "data": {
      "text/html": [
       "<div>\n",
       "<style scoped>\n",
       "    .dataframe tbody tr th:only-of-type {\n",
       "        vertical-align: middle;\n",
       "    }\n",
       "\n",
       "    .dataframe tbody tr th {\n",
       "        vertical-align: top;\n",
       "    }\n",
       "\n",
       "    .dataframe thead th {\n",
       "        text-align: right;\n",
       "    }\n",
       "</style>\n",
       "<table border=\"1\" class=\"dataframe\">\n",
       "  <thead>\n",
       "    <tr style=\"text-align: right;\">\n",
       "      <th></th>\n",
       "      <th>Source</th>\n",
       "      <th>TMC</th>\n",
       "      <th>Severity</th>\n",
       "      <th>Start_Lat</th>\n",
       "      <th>Start_Lng</th>\n",
       "      <th>Distance(mi)</th>\n",
       "      <th>Side</th>\n",
       "      <th>State</th>\n",
       "      <th>Timezone</th>\n",
       "      <th>Temperature(F)</th>\n",
       "      <th>...</th>\n",
       "      <th>Traffic_Signal</th>\n",
       "      <th>Civil_Twilight</th>\n",
       "      <th>Astronomical_Twilight</th>\n",
       "      <th>year</th>\n",
       "      <th>month</th>\n",
       "      <th>day</th>\n",
       "      <th>hour</th>\n",
       "      <th>Weekday</th>\n",
       "      <th>Season</th>\n",
       "      <th>Traffic_disruption(min)</th>\n",
       "    </tr>\n",
       "  </thead>\n",
       "  <tbody>\n",
       "    <tr>\n",
       "      <th>3173614</th>\n",
       "      <td>Bing</td>\n",
       "      <td>NaN</td>\n",
       "      <td>2.0</td>\n",
       "      <td>40.847160</td>\n",
       "      <td>-73.933490</td>\n",
       "      <td>0.583</td>\n",
       "      <td>R</td>\n",
       "      <td>NY</td>\n",
       "      <td>US/Eastern</td>\n",
       "      <td>26.1</td>\n",
       "      <td>...</td>\n",
       "      <td>0.0</td>\n",
       "      <td>Day</td>\n",
       "      <td>Day</td>\n",
       "      <td>2019.0</td>\n",
       "      <td>Mar</td>\n",
       "      <td>1.0</td>\n",
       "      <td>6.0</td>\n",
       "      <td>Fri</td>\n",
       "      <td>Winter</td>\n",
       "      <td>29.0</td>\n",
       "    </tr>\n",
       "    <tr>\n",
       "      <th>2560694</th>\n",
       "      <td>Bing</td>\n",
       "      <td>NaN</td>\n",
       "      <td>3.0</td>\n",
       "      <td>39.290699</td>\n",
       "      <td>-84.443617</td>\n",
       "      <td>0.051</td>\n",
       "      <td>R</td>\n",
       "      <td>OH</td>\n",
       "      <td>US/Eastern</td>\n",
       "      <td>84.9</td>\n",
       "      <td>...</td>\n",
       "      <td>0.0</td>\n",
       "      <td>Day</td>\n",
       "      <td>Day</td>\n",
       "      <td>2016.0</td>\n",
       "      <td>Aug</td>\n",
       "      <td>30.0</td>\n",
       "      <td>18.0</td>\n",
       "      <td>Tue</td>\n",
       "      <td>Summer</td>\n",
       "      <td>360.0</td>\n",
       "    </tr>\n",
       "    <tr>\n",
       "      <th>708186</th>\n",
       "      <td>MapQuest</td>\n",
       "      <td>201.0</td>\n",
       "      <td>2.0</td>\n",
       "      <td>33.483852</td>\n",
       "      <td>-82.083969</td>\n",
       "      <td>0.000</td>\n",
       "      <td>R</td>\n",
       "      <td>GA</td>\n",
       "      <td>US/Eastern</td>\n",
       "      <td>64.0</td>\n",
       "      <td>...</td>\n",
       "      <td>0.0</td>\n",
       "      <td>Night</td>\n",
       "      <td>Night</td>\n",
       "      <td>2020.0</td>\n",
       "      <td>Feb</td>\n",
       "      <td>11.0</td>\n",
       "      <td>4.0</td>\n",
       "      <td>Tue</td>\n",
       "      <td>Winter</td>\n",
       "      <td>185.0</td>\n",
       "    </tr>\n",
       "    <tr>\n",
       "      <th>2231588</th>\n",
       "      <td>MapQuest</td>\n",
       "      <td>241.0</td>\n",
       "      <td>2.0</td>\n",
       "      <td>36.560585</td>\n",
       "      <td>-79.882690</td>\n",
       "      <td>0.000</td>\n",
       "      <td>L</td>\n",
       "      <td>VA</td>\n",
       "      <td>US/Eastern</td>\n",
       "      <td>77.0</td>\n",
       "      <td>...</td>\n",
       "      <td>0.0</td>\n",
       "      <td>Day</td>\n",
       "      <td>Day</td>\n",
       "      <td>2017.0</td>\n",
       "      <td>Nov</td>\n",
       "      <td>3.0</td>\n",
       "      <td>12.0</td>\n",
       "      <td>Fri</td>\n",
       "      <td>Autumn</td>\n",
       "      <td>45.0</td>\n",
       "    </tr>\n",
       "    <tr>\n",
       "      <th>1755423</th>\n",
       "      <td>MapQuest</td>\n",
       "      <td>201.0</td>\n",
       "      <td>3.0</td>\n",
       "      <td>43.071461</td>\n",
       "      <td>-73.751770</td>\n",
       "      <td>0.000</td>\n",
       "      <td>R</td>\n",
       "      <td>NY</td>\n",
       "      <td>US/Eastern</td>\n",
       "      <td>82.4</td>\n",
       "      <td>...</td>\n",
       "      <td>0.0</td>\n",
       "      <td>Day</td>\n",
       "      <td>Day</td>\n",
       "      <td>2018.0</td>\n",
       "      <td>Jul</td>\n",
       "      <td>6.0</td>\n",
       "      <td>15.0</td>\n",
       "      <td>Fri</td>\n",
       "      <td>Summer</td>\n",
       "      <td>30.0</td>\n",
       "    </tr>\n",
       "  </tbody>\n",
       "</table>\n",
       "<p>5 rows × 32 columns</p>\n",
       "</div>"
      ],
      "text/plain": [
       "           Source    TMC  Severity  Start_Lat  Start_Lng  Distance(mi) Side  \\\n",
       "3173614      Bing    NaN       2.0  40.847160 -73.933490         0.583    R   \n",
       "2560694      Bing    NaN       3.0  39.290699 -84.443617         0.051    R   \n",
       "708186   MapQuest  201.0       2.0  33.483852 -82.083969         0.000    R   \n",
       "2231588  MapQuest  241.0       2.0  36.560585 -79.882690         0.000    L   \n",
       "1755423  MapQuest  201.0       3.0  43.071461 -73.751770         0.000    R   \n",
       "\n",
       "        State    Timezone  Temperature(F)  ...  Traffic_Signal  \\\n",
       "3173614    NY  US/Eastern            26.1  ...             0.0   \n",
       "2560694    OH  US/Eastern            84.9  ...             0.0   \n",
       "708186     GA  US/Eastern            64.0  ...             0.0   \n",
       "2231588    VA  US/Eastern            77.0  ...             0.0   \n",
       "1755423    NY  US/Eastern            82.4  ...             0.0   \n",
       "\n",
       "         Civil_Twilight  Astronomical_Twilight    year month   day  hour  \\\n",
       "3173614             Day                    Day  2019.0   Mar   1.0   6.0   \n",
       "2560694             Day                    Day  2016.0   Aug  30.0  18.0   \n",
       "708186            Night                  Night  2020.0   Feb  11.0   4.0   \n",
       "2231588             Day                    Day  2017.0   Nov   3.0  12.0   \n",
       "1755423             Day                    Day  2018.0   Jul   6.0  15.0   \n",
       "\n",
       "         Weekday  Season  Traffic_disruption(min)  \n",
       "3173614      Fri  Winter                     29.0  \n",
       "2560694      Tue  Summer                    360.0  \n",
       "708186       Tue  Winter                    185.0  \n",
       "2231588      Fri  Autumn                     45.0  \n",
       "1755423      Fri  Summer                     30.0  \n",
       "\n",
       "[5 rows x 32 columns]"
      ]
     },
     "execution_count": 217,
     "metadata": {},
     "output_type": "execute_result"
    }
   ],
   "source": [
    "df.head()"
   ]
  },
  {
   "cell_type": "code",
   "execution_count": 218,
   "metadata": {},
   "outputs": [
    {
     "data": {
      "text/plain": [
       "<AxesSubplot:ylabel='Frequency'>"
      ]
     },
     "execution_count": 218,
     "metadata": {},
     "output_type": "execute_result"
    },
    {
     "data": {
      "image/png": "[encoded data removed]",
      "text/plain": [
       "<Figure size 432x288 with 1 Axes>"
      ]
     },
     "metadata": {
      "needs_background": "light"
     },
     "output_type": "display_data"
    }
   ],
   "source": [
    "df['Traffic_disruption(min)'].plot.hist()"
   ]
  },
  {
   "cell_type": "code",
   "execution_count": 219,
   "metadata": {},
   "outputs": [],
   "source": [
    "target = 'Severity'\n",
    "\n",
    "y = df[target]\n",
    "X = df.drop(target, axis=1)"
   ]
  },
  {
   "cell_type": "code",
   "execution_count": 220,
   "metadata": {},
   "outputs": [
    {
     "data": {
      "text/plain": [
       "2.0    0.675525\n",
       "3.0    0.284253\n",
       "4.0    0.031469\n",
       "1.0    0.008754\n",
       "Name: Severity, dtype: float64"
      ]
     },
     "execution_count": 220,
     "metadata": {},
     "output_type": "execute_result"
    }
   ],
   "source": [
    "y.value_counts(normalize=True)"
   ]
  },
  {
   "cell_type": "code",
   "execution_count": 221,
   "metadata": {},
   "outputs": [
    {
     "name": "stdout",
     "output_type": "stream",
     "text": [
      "Baseline accuracy: 0.6755246442068022\n"
     ]
    }
   ],
   "source": [
    "#Baseline accuracy\n",
    "baseline_acc = y.value_counts(normalize=True).max()\n",
    "print('Baseline accuracy:',baseline_acc)"
   ]
  },
  {
   "cell_type": "code",
   "execution_count": 222,
   "metadata": {},
   "outputs": [],
   "source": [
    "from sklearn.model_selection import train_test_split\n",
    "train, val = train_test_split(df, test_size=.2, random_state=42)\n",
    "X_train, y_train = train.drop(target, axis=1), train[target]\n",
    "X_val, y_val = val.drop(target, axis=1), val[target]"
   ]
  },
  {
   "cell_type": "code",
   "execution_count": 223,
   "metadata": {},
   "outputs": [
    {
     "name": "stdout",
     "output_type": "stream",
     "text": [
      "(79596, 32) (19900, 32) (99496, 32)\n"
     ]
    }
   ],
   "source": [
    "print(train.shape, val.shape, df.shape)"
   ]
  },
  {
   "cell_type": "markdown",
   "metadata": {},
   "source": [
    "# Logistic Regression"
   ]
  },
  {
   "cell_type": "code",
   "execution_count": 224,
   "metadata": {},
   "outputs": [],
   "source": [
    "from sklearn.impute import SimpleImputer\n",
    "from category_encoders import OrdinalEncoder\n",
    "from sklearn.linear_model import LogisticRegression\n",
    "from sklearn.tree import DecisionTreeClassifier\n",
    "from sklearn.ensemble import GradientBoostingClassifier, RandomForestClassifier\n",
    "from sklearn.pipeline import make_pipeline\n",
    "from sklearn.feature_selection import SelectKBest\n",
    "from xgboost import XGBClassifier"
   ]
  },
  {
   "cell_type": "code",
   "execution_count": 225,
   "metadata": {},
   "outputs": [
    {
     "data": {
      "text/plain": [
       "Pipeline(steps=[('ordinalencoder',\n",
       "                 OrdinalEncoder(cols=['Source', 'Side', 'State', 'Timezone',\n",
       "                                      'Weather_Condition', 'Civil_Twilight',\n",
       "                                      'Astronomical_Twilight', 'month',\n",
       "                                      'Weekday', 'Season'],\n",
       "                                mapping=[{'col': 'Source',\n",
       "                                          'data_type': dtype('O'),\n",
       "                                          'mapping': MapQuest         1\n",
       "Bing             2\n",
       "MapQuest-Bing    3\n",
       "NaN             -2\n",
       "dtype: int64},\n",
       "                                         {'col': 'Side',\n",
       "                                          'data_type': dtype('O'),\n",
       "                                          'mapping': R      1\n",
       "L      2\n",
       "NaN   -2\n",
       "dtype: int64...\n",
       "Mar     7\n",
       "Jun     8\n",
       "Jan     9\n",
       "Sep    10\n",
       "May    11\n",
       "Apr    12\n",
       "NaN    -2\n",
       "dtype: int64},\n",
       "                                         {'col': 'Weekday',\n",
       "                                          'data_type': dtype('O'),\n",
       "                                          'mapping': Fri    1\n",
       "Tue    2\n",
       "Wed    3\n",
       "Mon    4\n",
       "Thu    5\n",
       "Sun    6\n",
       "Sat    7\n",
       "NaN   -2\n",
       "dtype: int64},\n",
       "                                         {'col': 'Season',\n",
       "                                          'data_type': dtype('O'),\n",
       "                                          'mapping': Autumn    1\n",
       "Summer    2\n",
       "Winter    3\n",
       "Spring    4\n",
       "NaN      -2\n",
       "dtype: int64}])),\n",
       "                ('simpleimputer', SimpleImputer(strategy='most_frequent')),\n",
       "                ('logisticregression', LogisticRegression(n_jobs=-1))])"
      ]
     },
     "execution_count": 225,
     "metadata": {},
     "output_type": "execute_result"
    }
   ],
   "source": [
    "model = make_pipeline(\n",
    "        OrdinalEncoder(),\n",
    "        SimpleImputer(strategy='most_frequent'),\n",
    "        LogisticRegression(n_jobs=-1)\n",
    ")\n",
    "model.fit(X_train,y_train)"
   ]
  },
  {
   "cell_type": "code",
   "execution_count": 226,
   "metadata": {},
   "outputs": [
    {
     "name": "stdout",
     "output_type": "stream",
     "text": [
      "Training accuracy: 0.6851223679581888\n",
      "Validation accuracy: 0.6947738693467337\n"
     ]
    }
   ],
   "source": [
    "print(\"Training accuracy:\", model.score(X_train,y_train))\n",
    "print(\"Validation accuracy:\", model.score(X_val,y_val))"
   ]
  },
  {
   "cell_type": "code",
   "execution_count": 227,
   "metadata": {},
   "outputs": [
    {
     "data": {
      "text/plain": [
       "Text(0.5, 1.0, 'Confusion Matrix: Logistic regression model')"
      ]
     },
     "execution_count": 227,
     "metadata": {},
     "output_type": "execute_result"
    },
    {
     "data": {
      "image/png": "[encoded data removed]",
      "text/plain": [
       "<Figure size 576x576 with 2 Axes>"
      ]
     },
     "metadata": {
      "needs_background": "light"
     },
     "output_type": "display_data"
    }
   ],
   "source": [
    "from sklearn.metrics import plot_confusion_matrix\n",
    "import matplotlib.pyplot as plt\n",
    "\n",
    "fig, ax = plt.subplots(1,1,figsize=(8,8))\n",
    "\n",
    "plot_confusion_matrix(model, X_val, y_val, cmap=plt.cm.Blues, ax=ax)\n",
    "ax.set_title('Confusion Matrix: Logistic regression model')"
   ]
  },
  {
   "cell_type": "markdown",
   "metadata": {},
   "source": [
    "# Decision Tree Model"
   ]
  },
  {
   "cell_type": "code",
   "execution_count": 228,
   "metadata": {},
   "outputs": [
    {
     "data": {
      "text/plain": [
       "Pipeline(steps=[('ordinalencoder',\n",
       "                 OrdinalEncoder(cols=['Source', 'Side', 'State', 'Timezone',\n",
       "                                      'Weather_Condition', 'Civil_Twilight',\n",
       "                                      'Astronomical_Twilight', 'month',\n",
       "                                      'Weekday', 'Season'],\n",
       "                                mapping=[{'col': 'Source',\n",
       "                                          'data_type': dtype('O'),\n",
       "                                          'mapping': MapQuest         1\n",
       "Bing             2\n",
       "MapQuest-Bing    3\n",
       "NaN             -2\n",
       "dtype: int64},\n",
       "                                         {'col': 'Side',\n",
       "                                          'data_type': dtype('O'),\n",
       "                                          'mapping': R      1\n",
       "L      2\n",
       "NaN   -2\n",
       "dtype: int64...\n",
       "Feb     5\n",
       "Aug     6\n",
       "Mar     7\n",
       "Jun     8\n",
       "Jan     9\n",
       "Sep    10\n",
       "May    11\n",
       "Apr    12\n",
       "NaN    -2\n",
       "dtype: int64},\n",
       "                                         {'col': 'Weekday',\n",
       "                                          'data_type': dtype('O'),\n",
       "                                          'mapping': Fri    1\n",
       "Tue    2\n",
       "Wed    3\n",
       "Mon    4\n",
       "Thu    5\n",
       "Sun    6\n",
       "Sat    7\n",
       "NaN   -2\n",
       "dtype: int64},\n",
       "                                         {'col': 'Season',\n",
       "                                          'data_type': dtype('O'),\n",
       "                                          'mapping': Autumn    1\n",
       "Summer    2\n",
       "Winter    3\n",
       "Spring    4\n",
       "NaN      -2\n",
       "dtype: int64}])),\n",
       "                ('simpleimputer', SimpleImputer(strategy='median')),\n",
       "                ('decisiontreeclassifier', DecisionTreeClassifier())])"
      ]
     },
     "execution_count": 228,
     "metadata": {},
     "output_type": "execute_result"
    }
   ],
   "source": [
    "model_dt = make_pipeline(       \n",
    "        OrdinalEncoder(),\n",
    "        SimpleImputer(strategy='median'),\n",
    "        DecisionTreeClassifier()\n",
    ")\n",
    "model_dt.fit(X_train,y_train)"
   ]
  },
  {
   "cell_type": "code",
   "execution_count": 229,
   "metadata": {},
   "outputs": [
    {
     "name": "stdout",
     "output_type": "stream",
     "text": [
      "Training accuracy: 0.9999874365546008\n",
      "Validation accuracy: 0.7228140703517588\n"
     ]
    }
   ],
   "source": [
    "print(\"Training accuracy:\", model_dt.score(X_train,y_train))\n",
    "print(\"Validation accuracy:\", model_dt.score(X_val,y_val))"
   ]
  },
  {
   "cell_type": "code",
   "execution_count": 230,
   "metadata": {},
   "outputs": [
    {
     "data": {
      "text/plain": [
       "Text(0.5, 1.0, 'Confusion Matrix: Decision Tree')"
      ]
     },
     "execution_count": 230,
     "metadata": {},
     "output_type": "execute_result"
    },
    {
     "data": {
      "image/png": "[encoded data removed]",
      "text/plain": [
       "<Figure size 576x576 with 2 Axes>"
      ]
     },
     "metadata": {
      "needs_background": "light"
     },
     "output_type": "display_data"
    }
   ],
   "source": [
    "fig, ax = plt.subplots(1,1,figsize=(8,8))\n",
    "\n",
    "plot_confusion_matrix(model_dt, X_val, y_val, cmap=plt.cm.Blues, ax=ax)\n",
    "ax.set_title('Confusion Matrix: Decision Tree')"
   ]
  },
  {
   "cell_type": "markdown",
   "metadata": {},
   "source": [
    "# Random Forest Model"
   ]
  },
  {
   "cell_type": "code",
   "execution_count": 231,
   "metadata": {},
   "outputs": [
    {
     "data": {
      "text/plain": [
       "Pipeline(steps=[('ordinalencoder',\n",
       "                 OrdinalEncoder(cols=['Source', 'Side', 'State', 'Timezone',\n",
       "                                      'Weather_Condition', 'Civil_Twilight',\n",
       "                                      'Astronomical_Twilight', 'month',\n",
       "                                      'Weekday', 'Season'],\n",
       "                                mapping=[{'col': 'Source',\n",
       "                                          'data_type': dtype('O'),\n",
       "                                          'mapping': MapQuest         1\n",
       "Bing             2\n",
       "MapQuest-Bing    3\n",
       "NaN             -2\n",
       "dtype: int64},\n",
       "                                         {'col': 'Side',\n",
       "                                          'data_type': dtype('O'),\n",
       "                                          'mapping': R      1\n",
       "L      2\n",
       "NaN   -2\n",
       "dtype: int64...\n",
       "Mar     7\n",
       "Jun     8\n",
       "Jan     9\n",
       "Sep    10\n",
       "May    11\n",
       "Apr    12\n",
       "NaN    -2\n",
       "dtype: int64},\n",
       "                                         {'col': 'Weekday',\n",
       "                                          'data_type': dtype('O'),\n",
       "                                          'mapping': Fri    1\n",
       "Tue    2\n",
       "Wed    3\n",
       "Mon    4\n",
       "Thu    5\n",
       "Sun    6\n",
       "Sat    7\n",
       "NaN   -2\n",
       "dtype: int64},\n",
       "                                         {'col': 'Season',\n",
       "                                          'data_type': dtype('O'),\n",
       "                                          'mapping': Autumn    1\n",
       "Summer    2\n",
       "Winter    3\n",
       "Spring    4\n",
       "NaN      -2\n",
       "dtype: int64}])),\n",
       "                ('simpleimputer', SimpleImputer()),\n",
       "                ('randomforestclassifier',\n",
       "                 RandomForestClassifier(n_jobs=-1, random_state=0))])"
      ]
     },
     "execution_count": 231,
     "metadata": {},
     "output_type": "execute_result"
    }
   ],
   "source": [
    "model_rf = make_pipeline(\n",
    "        OrdinalEncoder(),\n",
    "        SimpleImputer(),\n",
    "        RandomForestClassifier(n_estimators=100,random_state=0,n_jobs=-1)\n",
    ")\n",
    "model_rf.fit(X_train, y_train)"
   ]
  },
  {
   "cell_type": "code",
   "execution_count": 232,
   "metadata": {},
   "outputs": [
    {
     "name": "stdout",
     "output_type": "stream",
     "text": [
      "Training accuracy: 0.9999497462184029\n",
      "Validation accuracy: 0.7837185929648242\n"
     ]
    }
   ],
   "source": [
    "print(\"Training accuracy:\", model_rf.score(X_train,y_train))\n",
    "print(\"Validation accuracy:\", model_rf.score(X_val,y_val))"
   ]
  },
  {
   "cell_type": "code",
   "execution_count": 233,
   "metadata": {
    "scrolled": false
   },
   "outputs": [
    {
     "data": {
      "text/plain": [
       "Text(0.5, 1.0, 'Confusion Matrix: Random Forest')"
      ]
     },
     "execution_count": 233,
     "metadata": {},
     "output_type": "execute_result"
    },
    {
     "data": {
      "image/png": "[encoded data removed]",
      "text/plain": [
       "<Figure size 576x576 with 2 Axes>"
      ]
     },
     "metadata": {
      "needs_background": "light"
     },
     "output_type": "display_data"
    }
   ],
   "source": [
    "fig, ax = plt.subplots(1,1,figsize=(8,8))\n",
    "\n",
    "plot_confusion_matrix(model_rf, X_val, y_val, cmap=plt.cm.Blues, ax=ax)\n",
    "ax.set_title('Confusion Matrix: Random Forest')"
   ]
  },
  {
   "cell_type": "markdown",
   "metadata": {},
   "source": [
    "# XGBClassifier Model"
   ]
  },
  {
   "cell_type": "code",
   "execution_count": 234,
   "metadata": {},
   "outputs": [
    {
     "data": {
      "text/plain": [
       "Pipeline(steps=[('ordinalencoder',\n",
       "                 OrdinalEncoder(cols=['Source', 'Side', 'State', 'Timezone',\n",
       "                                      'Weather_Condition', 'Civil_Twilight',\n",
       "                                      'Astronomical_Twilight', 'month',\n",
       "                                      'Weekday', 'Season'],\n",
       "                                mapping=[{'col': 'Source',\n",
       "                                          'data_type': dtype('O'),\n",
       "                                          'mapping': MapQuest         1\n",
       "Bing             2\n",
       "MapQuest-Bing    3\n",
       "NaN             -2\n",
       "dtype: int64},\n",
       "                                         {'col': 'Side',\n",
       "                                          'data_type': dtype('O'),\n",
       "                                          'mapping': R      1\n",
       "L      2\n",
       "NaN   -2\n",
       "dtype: int64...\n",
       "                               importance_type='gain',\n",
       "                               interaction_constraints='',\n",
       "                               learning_rate=0.300000012, max_delta_step=0,\n",
       "                               max_depth=6, min_child_weight=1, missing=nan,\n",
       "                               monotone_constraints='()', n_estimators=100,\n",
       "                               n_jobs=-1, num_parallel_tree=1,\n",
       "                               objective='multi:softprob', random_state=0,\n",
       "                               reg_alpha=0, reg_lambda=1, scale_pos_weight=None,\n",
       "                               subsample=1, tree_method='exact',\n",
       "                               validate_parameters=1, verbosity=None))])"
      ]
     },
     "execution_count": 234,
     "metadata": {},
     "output_type": "execute_result"
    }
   ],
   "source": [
    "model_xgb = make_pipeline(\n",
    "        OrdinalEncoder(),\n",
    "        SimpleImputer(strategy='median'),\n",
    "        XGBClassifier(n_estimators=100, random_state=0, n_jobs=-1)\n",
    ")\n",
    "model_xgb.fit(X_train,y_train)"
   ]
  },
  {
   "cell_type": "code",
   "execution_count": 235,
   "metadata": {},
   "outputs": [
    {
     "name": "stdout",
     "output_type": "stream",
     "text": [
      "Training accuracy: 0.8543645409317051\n",
      "Validation accuracy: 0.8083417085427136\n"
     ]
    }
   ],
   "source": [
    "print(\"Training accuracy:\", model_xgb.score(X_train,y_train))\n",
    "print(\"Validation accuracy:\", model_xgb.score(X_val,y_val))"
   ]
  },
  {
   "cell_type": "code",
   "execution_count": 236,
   "metadata": {},
   "outputs": [
    {
     "data": {
      "text/plain": [
       "Text(0.5, 1.0, 'Confusion Matrix: XGB')"
      ]
     },
     "execution_count": 236,
     "metadata": {},
     "output_type": "execute_result"
    },
    {
     "data": {
      "image/png": "[encoded data removed]",
      "text/plain": [
       "<Figure size 576x576 with 2 Axes>"
      ]
     },
     "metadata": {
      "needs_background": "light"
     },
     "output_type": "display_data"
    }
   ],
   "source": [
    "fig, ax = plt.subplots(1,1,figsize=(8,8))\n",
    "\n",
    "plot_confusion_matrix(model_xgb, X_val, y_val, cmap=plt.cm.Blues, ax=ax)\n",
    "ax.set_title('Confusion Matrix: XGB')"
   ]
  },
  {
   "cell_type": "code",
   "execution_count": 237,
   "metadata": {},
   "outputs": [],
   "source": [
    "transformer = OrdinalEncoder()\n",
    "transformer.fit(X_train)\n",
    "XT_train = transformer.transform(X_train)\n",
    "XT_val = transformer.transform(X_val)"
   ]
  },
  {
   "cell_type": "code",
   "execution_count": 238,
   "metadata": {},
   "outputs": [
    {
     "name": "stdout",
     "output_type": "stream",
     "text": [
      "Training Accuracy: Adaboost 0.8594904266546057\n",
      "Validation Accuracy: Adaboost 0.8106030150753769\n"
     ]
    }
   ],
   "source": [
    "# Load xgboost and fit the model\n",
    "xg_classifier = XGBClassifier(n_estimators=100, random_state=42)\n",
    "\n",
    "xg_classifier.fit(XT_train,y_train)\n",
    "\n",
    "print('Training Accuracy: Adaboost', xg_classifier.score(XT_train, y_train))\n",
    "print('Validation Accuracy: Adaboost', xg_classifier.score(XT_val, y_val))"
   ]
  },
  {
   "cell_type": "code",
   "execution_count": 239,
   "metadata": {},
   "outputs": [
    {
     "data": {
      "text/plain": [
       "Text(0.5, 1.0, 'Confusion Matrix: XG_classifier')"
      ]
     },
     "execution_count": 239,
     "metadata": {},
     "output_type": "execute_result"
    },
    {
     "data": {
      "image/png": "[encoded data removed]",
      "text/plain": [
       "<Figure size 576x576 with 2 Axes>"
      ]
     },
     "metadata": {
      "needs_background": "light"
     },
     "output_type": "display_data"
    }
   ],
   "source": [
    "fig, ax = plt.subplots(1,1,figsize=(8,8))\n",
    "\n",
    "plot_confusion_matrix(xg_classifier, XT_val, y_val, cmap=plt.cm.Blues, ax=ax)\n",
    "ax.set_title('Confusion Matrix: XG_classifier')"
   ]
  },
  {
   "cell_type": "markdown",
   "metadata": {},
   "source": [
    "# Model Evaluation"
   ]
  },
  {
   "cell_type": "code",
   "execution_count": 277,
   "metadata": {},
   "outputs": [
    {
     "name": "stdout",
     "output_type": "stream",
     "text": [
      "One-vs-One ROC AUC scores:\n",
      "0.933306 (macro),\n",
      "0.920549 (weighted by prevalence)\n",
      "One-vs-Rest ROC AUC scores:\n",
      "0.931508 (macro),\n",
      "0.890199 (weighted by prevalence)\n"
     ]
    }
   ],
   "source": [
    "from sklearn.metrics import roc_auc_score, roc_curve\n",
    "y_prob = xg_classifier.predict_proba(XT_val)\n",
    "\n",
    "macro_roc_auc_ovo = roc_auc_score(y_val, y_prob, multi_class=\"ovo\",\n",
    "                                  average=\"macro\")\n",
    "weighted_roc_auc_ovo = roc_auc_score(y_val, y_prob, multi_class=\"ovo\",\n",
    "                                     average=\"weighted\")\n",
    "macro_roc_auc_ovr = roc_auc_score(y_val, y_prob, multi_class=\"ovr\",\n",
    "                                  average=\"macro\")\n",
    "weighted_roc_auc_ovr = roc_auc_score(y_val, y_prob, multi_class=\"ovr\",\n",
    "                                     average=\"weighted\")\n",
    "print(\"One-vs-One ROC AUC scores:\\n{:.6f} (macro),\\n{:.6f} \"\n",
    "      \"(weighted by prevalence)\"\n",
    "      .format(macro_roc_auc_ovo, weighted_roc_auc_ovo))\n",
    "print(\"One-vs-Rest ROC AUC scores:\\n{:.6f} (macro),\\n{:.6f} \"\n",
    "      \"(weighted by prevalence)\"\n",
    "      .format(macro_roc_auc_ovr, weighted_roc_auc_ovr))"
   ]
  },
  {
   "cell_type": "code",
   "execution_count": 279,
   "metadata": {},
   "outputs": [
    {
     "data": {
      "text/plain": [
       "0.9333056466904659"
      ]
     },
     "execution_count": 279,
     "metadata": {},
     "output_type": "execute_result"
    }
   ],
   "source": [
    "roc_auc_score(y_val, y_prob, multi_class='ovo')"
   ]
  },
  {
   "cell_type": "markdown",
   "metadata": {},
   "source": [
    "# Permutation Importances"
   ]
  },
  {
   "cell_type": "code",
   "execution_count": 240,
   "metadata": {},
   "outputs": [
    {
     "name": "stderr",
     "output_type": "stream",
     "text": [
      "C:\\Users\\james\\miniconda3\\lib\\site-packages\\category_encoders\\utils.py:21: FutureWarning: is_categorical is deprecated and will be removed in a future version.  Use is_categorical_dtype instead\n",
      "  elif pd.api.types.is_categorical(cols):\n"
     ]
    },
    {
     "data": {
      "text/plain": [
       "XGBClassifier(base_score=0.5, booster='gbtree', colsample_bylevel=1,\n",
       "              colsample_bynode=1, colsample_bytree=1, gamma=0, gpu_id=-1,\n",
       "              importance_type='gain', interaction_constraints='',\n",
       "              learning_rate=0.300000012, max_delta_step=0, max_depth=6,\n",
       "              min_child_weight=1, missing=nan, monotone_constraints='()',\n",
       "              n_estimators=100, n_jobs=-1, num_parallel_tree=1,\n",
       "              objective='multi:softprob', random_state=42, reg_alpha=0,\n",
       "              reg_lambda=1, scale_pos_weight=None, subsample=1,\n",
       "              tree_method='exact', validate_parameters=1, verbosity=None)"
      ]
     },
     "execution_count": 240,
     "metadata": {},
     "output_type": "execute_result"
    }
   ],
   "source": [
    "transform_pipeline = make_pipeline(\n",
    "                    OrdinalEncoder(),\n",
    "                    SimpleImputer(strategy='median')\n",
    ")\n",
    "X_train_transformed = transform_pipeline.fit_transform(X_train)\n",
    "X_val_transformed = transform_pipeline.fit_transform(X_val)\n",
    "\n",
    "model = XGBClassifier(n_estimators=100, random_state=42, n_jobs=-1)\n",
    "model.fit(X_train_transformed, y_train)"
   ]
  },
  {
   "cell_type": "code",
   "execution_count": 241,
   "metadata": {},
   "outputs": [
    {
     "data": {
      "text/plain": [
       "PermutationImportance(estimator=XGBClassifier(base_score=0.5, booster='gbtree',\n",
       "                                              colsample_bylevel=1,\n",
       "                                              colsample_bynode=1,\n",
       "                                              colsample_bytree=1, gamma=0,\n",
       "                                              gpu_id=-1, importance_type='gain',\n",
       "                                              interaction_constraints='',\n",
       "                                              learning_rate=0.300000012,\n",
       "                                              max_delta_step=0, max_depth=6,\n",
       "                                              min_child_weight=1, missing=nan,\n",
       "                                              monotone_constraints='()',\n",
       "                                              n_estimators=100, n_jobs=-1,\n",
       "                                              num_parallel_tree=1,\n",
       "                                              objective='multi:softprob',\n",
       "                                              random_state=42, reg_alpha=0,\n",
       "                                              reg_lambda=1,\n",
       "                                              scale_pos_weight=None,\n",
       "                                              subsample=1, tree_method='exact',\n",
       "                                              validate_parameters=1,\n",
       "                                              verbosity=None),\n",
       "                      random_state=42, scoring='accuracy')"
      ]
     },
     "execution_count": 241,
     "metadata": {},
     "output_type": "execute_result"
    }
   ],
   "source": [
    "import eli5\n",
    "from eli5.sklearn import PermutationImportance\n",
    "\n",
    "permuter = PermutationImportance(\n",
    "    model,\n",
    "    scoring='accuracy',\n",
    "    n_iter=5,\n",
    "    random_state=42\n",
    ")\n",
    "permuter.fit(X_val_transformed, y_val)"
   ]
  },
  {
   "cell_type": "code",
   "execution_count": 242,
   "metadata": {},
   "outputs": [
    {
     "data": {
      "text/plain": [
       "Start_Lng                  0.074261\n",
       "Source                     0.072704\n",
       "Start_Lat                  0.062844\n",
       "Side                       0.030905\n",
       "Traffic_Signal             0.018734\n",
       "State                      0.017578\n",
       "Distance(mi)               0.016382\n",
       "Traffic_disruption(min)    0.011216\n",
       "year                       0.009387\n",
       "hour                       0.009367\n",
       "TMC                        0.009146\n",
       "Weekday                    0.006121\n",
       "Crossing                   0.005055\n",
       "Junction                   0.004191\n",
       "Pressure(in)               0.002673\n",
       "Stop                       0.002603\n",
       "Station                    0.001849\n",
       "Humidity(%)                0.001658\n",
       "Amenity                    0.001055\n",
       "Visibility(mi)             0.000834\n",
       "Timezone                   0.000573\n",
       "Temperature(F)             0.000553\n",
       "Weather_Condition          0.000472\n",
       "Astronomical_Twilight      0.000432\n",
       "Civil_Twilight             0.000402\n",
       "month                      0.000312\n",
       "Wind_Speed(mph)            0.000302\n",
       "day                        0.000181\n",
       "Railway                    0.000151\n",
       "Season                     0.000121\n",
       "Give_Way                  -0.000020\n",
       "dtype: float64"
      ]
     },
     "execution_count": 242,
     "metadata": {},
     "output_type": "execute_result"
    }
   ],
   "source": [
    "feature_names = X_val.columns.tolist()\n",
    "pd.Series(permuter.feature_importances_, feature_names).sort_values(ascending=False)"
   ]
  },
  {
   "cell_type": "markdown",
   "metadata": {},
   "source": [
    "# Tune Model"
   ]
  },
  {
   "cell_type": "code",
   "execution_count": 243,
   "metadata": {},
   "outputs": [
    {
     "data": {
      "text/plain": [
       "dict_keys(['objective', 'base_score', 'booster', 'colsample_bylevel', 'colsample_bynode', 'colsample_bytree', 'gamma', 'gpu_id', 'importance_type', 'interaction_constraints', 'learning_rate', 'max_delta_step', 'max_depth', 'min_child_weight', 'missing', 'monotone_constraints', 'n_estimators', 'n_jobs', 'num_parallel_tree', 'random_state', 'reg_alpha', 'reg_lambda', 'scale_pos_weight', 'subsample', 'tree_method', 'validate_parameters', 'verbosity'])"
      ]
     },
     "execution_count": 243,
     "metadata": {},
     "output_type": "execute_result"
    }
   ],
   "source": [
    "XGBClassifier().get_params().keys()"
   ]
  },
  {
   "cell_type": "code",
   "execution_count": 301,
   "metadata": {},
   "outputs": [],
   "source": [
    "def wrangle2(X):\n",
    "    X['Severe'] = X['Severity']>=3\n",
    "    X.drop('Severity', axis=1, inplace=True)\n",
    "    return X\n",
    "df2 = wrangle2(df)\n",
    "df2 = wrangle(df2)"
   ]
  },
  {
   "cell_type": "code",
   "execution_count": 302,
   "metadata": {},
   "outputs": [
    {
     "data": {
      "text/html": [
       "<div>\n",
       "<style scoped>\n",
       "    .dataframe tbody tr th:only-of-type {\n",
       "        vertical-align: middle;\n",
       "    }\n",
       "\n",
       "    .dataframe tbody tr th {\n",
       "        vertical-align: top;\n",
       "    }\n",
       "\n",
       "    .dataframe thead th {\n",
       "        text-align: right;\n",
       "    }\n",
       "</style>\n",
       "<table border=\"1\" class=\"dataframe\">\n",
       "  <thead>\n",
       "    <tr style=\"text-align: right;\">\n",
       "      <th></th>\n",
       "      <th>Source</th>\n",
       "      <th>TMC</th>\n",
       "      <th>Start_Lat</th>\n",
       "      <th>Start_Lng</th>\n",
       "      <th>Distance(mi)</th>\n",
       "      <th>Side</th>\n",
       "      <th>State</th>\n",
       "      <th>Timezone</th>\n",
       "      <th>Temperature(F)</th>\n",
       "      <th>Humidity(%)</th>\n",
       "      <th>...</th>\n",
       "      <th>Civil_Twilight</th>\n",
       "      <th>Astronomical_Twilight</th>\n",
       "      <th>Severe</th>\n",
       "      <th>year</th>\n",
       "      <th>month</th>\n",
       "      <th>day</th>\n",
       "      <th>hour</th>\n",
       "      <th>Weekday</th>\n",
       "      <th>Season</th>\n",
       "      <th>Traffic_disruption(min)</th>\n",
       "    </tr>\n",
       "  </thead>\n",
       "  <tbody>\n",
       "    <tr>\n",
       "      <th>3173614</th>\n",
       "      <td>Bing</td>\n",
       "      <td>NaN</td>\n",
       "      <td>40.847160</td>\n",
       "      <td>-73.933490</td>\n",
       "      <td>0.583</td>\n",
       "      <td>R</td>\n",
       "      <td>NY</td>\n",
       "      <td>US/Eastern</td>\n",
       "      <td>26.1</td>\n",
       "      <td>88.0</td>\n",
       "      <td>...</td>\n",
       "      <td>Day</td>\n",
       "      <td>Day</td>\n",
       "      <td>0.0</td>\n",
       "      <td>2019.0</td>\n",
       "      <td>Mar</td>\n",
       "      <td>1.0</td>\n",
       "      <td>6.0</td>\n",
       "      <td>Fri</td>\n",
       "      <td>Winter</td>\n",
       "      <td>29.0</td>\n",
       "    </tr>\n",
       "    <tr>\n",
       "      <th>2560694</th>\n",
       "      <td>Bing</td>\n",
       "      <td>NaN</td>\n",
       "      <td>39.290699</td>\n",
       "      <td>-84.443617</td>\n",
       "      <td>0.051</td>\n",
       "      <td>R</td>\n",
       "      <td>OH</td>\n",
       "      <td>US/Eastern</td>\n",
       "      <td>84.9</td>\n",
       "      <td>55.0</td>\n",
       "      <td>...</td>\n",
       "      <td>Day</td>\n",
       "      <td>Day</td>\n",
       "      <td>1.0</td>\n",
       "      <td>2016.0</td>\n",
       "      <td>Aug</td>\n",
       "      <td>30.0</td>\n",
       "      <td>18.0</td>\n",
       "      <td>Tue</td>\n",
       "      <td>Summer</td>\n",
       "      <td>360.0</td>\n",
       "    </tr>\n",
       "    <tr>\n",
       "      <th>708186</th>\n",
       "      <td>MapQuest</td>\n",
       "      <td>201.0</td>\n",
       "      <td>33.483852</td>\n",
       "      <td>-82.083969</td>\n",
       "      <td>0.000</td>\n",
       "      <td>R</td>\n",
       "      <td>GA</td>\n",
       "      <td>US/Eastern</td>\n",
       "      <td>64.0</td>\n",
       "      <td>84.0</td>\n",
       "      <td>...</td>\n",
       "      <td>Night</td>\n",
       "      <td>Night</td>\n",
       "      <td>0.0</td>\n",
       "      <td>2020.0</td>\n",
       "      <td>Feb</td>\n",
       "      <td>11.0</td>\n",
       "      <td>4.0</td>\n",
       "      <td>Tue</td>\n",
       "      <td>Winter</td>\n",
       "      <td>185.0</td>\n",
       "    </tr>\n",
       "    <tr>\n",
       "      <th>2231588</th>\n",
       "      <td>MapQuest</td>\n",
       "      <td>241.0</td>\n",
       "      <td>36.560585</td>\n",
       "      <td>-79.882690</td>\n",
       "      <td>0.000</td>\n",
       "      <td>L</td>\n",
       "      <td>VA</td>\n",
       "      <td>US/Eastern</td>\n",
       "      <td>77.0</td>\n",
       "      <td>51.0</td>\n",
       "      <td>...</td>\n",
       "      <td>Day</td>\n",
       "      <td>Day</td>\n",
       "      <td>0.0</td>\n",
       "      <td>2017.0</td>\n",
       "      <td>Nov</td>\n",
       "      <td>3.0</td>\n",
       "      <td>12.0</td>\n",
       "      <td>Fri</td>\n",
       "      <td>Autumn</td>\n",
       "      <td>45.0</td>\n",
       "    </tr>\n",
       "    <tr>\n",
       "      <th>1755423</th>\n",
       "      <td>MapQuest</td>\n",
       "      <td>201.0</td>\n",
       "      <td>43.071461</td>\n",
       "      <td>-73.751770</td>\n",
       "      <td>0.000</td>\n",
       "      <td>R</td>\n",
       "      <td>NY</td>\n",
       "      <td>US/Eastern</td>\n",
       "      <td>82.4</td>\n",
       "      <td>37.0</td>\n",
       "      <td>...</td>\n",
       "      <td>Day</td>\n",
       "      <td>Day</td>\n",
       "      <td>1.0</td>\n",
       "      <td>2018.0</td>\n",
       "      <td>Jul</td>\n",
       "      <td>6.0</td>\n",
       "      <td>15.0</td>\n",
       "      <td>Fri</td>\n",
       "      <td>Summer</td>\n",
       "      <td>30.0</td>\n",
       "    </tr>\n",
       "  </tbody>\n",
       "</table>\n",
       "<p>5 rows × 32 columns</p>\n",
       "</div>"
      ],
      "text/plain": [
       "           Source    TMC  Start_Lat  Start_Lng  Distance(mi) Side State  \\\n",
       "3173614      Bing    NaN  40.847160 -73.933490         0.583    R    NY   \n",
       "2560694      Bing    NaN  39.290699 -84.443617         0.051    R    OH   \n",
       "708186   MapQuest  201.0  33.483852 -82.083969         0.000    R    GA   \n",
       "2231588  MapQuest  241.0  36.560585 -79.882690         0.000    L    VA   \n",
       "1755423  MapQuest  201.0  43.071461 -73.751770         0.000    R    NY   \n",
       "\n",
       "           Timezone  Temperature(F)  Humidity(%)  ...  Civil_Twilight  \\\n",
       "3173614  US/Eastern            26.1         88.0  ...             Day   \n",
       "2560694  US/Eastern            84.9         55.0  ...             Day   \n",
       "708186   US/Eastern            64.0         84.0  ...           Night   \n",
       "2231588  US/Eastern            77.0         51.0  ...             Day   \n",
       "1755423  US/Eastern            82.4         37.0  ...             Day   \n",
       "\n",
       "         Astronomical_Twilight  Severe    year  month   day  hour  Weekday  \\\n",
       "3173614                    Day     0.0  2019.0    Mar   1.0   6.0      Fri   \n",
       "2560694                    Day     1.0  2016.0    Aug  30.0  18.0      Tue   \n",
       "708186                   Night     0.0  2020.0    Feb  11.0   4.0      Tue   \n",
       "2231588                    Day     0.0  2017.0    Nov   3.0  12.0      Fri   \n",
       "1755423                    Day     1.0  2018.0    Jul   6.0  15.0      Fri   \n",
       "\n",
       "         Season  Traffic_disruption(min)  \n",
       "3173614  Winter                     29.0  \n",
       "2560694  Summer                    360.0  \n",
       "708186   Winter                    185.0  \n",
       "2231588  Autumn                     45.0  \n",
       "1755423  Summer                     30.0  \n",
       "\n",
       "[5 rows x 32 columns]"
      ]
     },
     "execution_count": 302,
     "metadata": {},
     "output_type": "execute_result"
    }
   ],
   "source": [
    "df2.head()"
   ]
  },
  {
   "cell_type": "code",
   "execution_count": 303,
   "metadata": {},
   "outputs": [],
   "source": [
    "from sklearn.model_selection import train_test_split\n",
    "target = 'Severe'\n",
    "train2, val2 = train_test_split(df2, test_size=.2, random_state=42)\n",
    "X_train2, y_train2 = train.drop(target, axis=1), train[target]\n",
    "X_val2, y_val2 = val.drop(target, axis=1), val[target]"
   ]
  },
  {
   "cell_type": "code",
   "execution_count": 304,
   "metadata": {},
   "outputs": [
    {
     "ename": "ValueError",
     "evalue": "DataFrame.dtypes for data must be int, float or bool.\n                Did not expect the data types in fields ID, Source, Start_Time, End_Time, Description, Street, Side, City, County, State, Zipcode, Country, Timezone, Airport_Code, Weather_Timestamp, Wind_Direction, Weather_Condition, Sunrise_Sunset, Civil_Twilight, Nautical_Twilight, Astronomical_Twilight",
     "output_type": "error",
     "traceback": [
      "\u001b[1;31m---------------------------------------------------------------------------\u001b[0m",
      "\u001b[1;31mValueError\u001b[0m                                Traceback (most recent call last)",
      "\u001b[1;32m<ipython-input-304-ea9acb6c71e8>\u001b[0m in \u001b[0;36m<module>\u001b[1;34m\u001b[0m\n\u001b[0;32m      3\u001b[0m             \u001b[0mXGBClassifier\u001b[0m\u001b[1;33m(\u001b[0m\u001b[1;33m)\u001b[0m\u001b[1;33m\u001b[0m\u001b[1;33m\u001b[0m\u001b[0m\n\u001b[0;32m      4\u001b[0m )\n\u001b[1;32m----> 5\u001b[1;33m \u001b[0mmodel\u001b[0m\u001b[1;33m.\u001b[0m\u001b[0mfit\u001b[0m\u001b[1;33m(\u001b[0m\u001b[0mX_train2\u001b[0m\u001b[1;33m,\u001b[0m\u001b[0my_train2\u001b[0m\u001b[1;33m)\u001b[0m\u001b[1;33m\u001b[0m\u001b[1;33m\u001b[0m\u001b[0m\n\u001b[0m",
      "\u001b[1;32m~\\miniconda3\\lib\\site-packages\\xgboost\\sklearn.py\u001b[0m in \u001b[0;36mfit\u001b[1;34m(self, X, y, sample_weight, base_margin, eval_set, eval_metric, early_stopping_rounds, verbose, xgb_model, sample_weight_eval_set, callbacks)\u001b[0m\n\u001b[0;32m    822\u001b[0m         \u001b[0mself\u001b[0m\u001b[1;33m.\u001b[0m\u001b[0mn_features_in_\u001b[0m \u001b[1;33m=\u001b[0m \u001b[0mself\u001b[0m\u001b[1;33m.\u001b[0m\u001b[0m_features_count\u001b[0m\u001b[1;33m\u001b[0m\u001b[1;33m\u001b[0m\u001b[0m\n\u001b[0;32m    823\u001b[0m \u001b[1;33m\u001b[0m\u001b[0m\n\u001b[1;32m--> 824\u001b[1;33m         train_dmatrix = DMatrix(X, label=training_labels, weight=sample_weight,\n\u001b[0m\u001b[0;32m    825\u001b[0m                                 \u001b[0mbase_margin\u001b[0m\u001b[1;33m=\u001b[0m\u001b[0mbase_margin\u001b[0m\u001b[1;33m,\u001b[0m\u001b[1;33m\u001b[0m\u001b[1;33m\u001b[0m\u001b[0m\n\u001b[0;32m    826\u001b[0m                                 missing=self.missing, nthread=self.n_jobs)\n",
      "\u001b[1;32m~\\miniconda3\\lib\\site-packages\\xgboost\\core.py\u001b[0m in \u001b[0;36m__init__\u001b[1;34m(self, data, label, weight, base_margin, missing, silent, feature_names, feature_types, nthread)\u001b[0m\n\u001b[0;32m    432\u001b[0m \u001b[1;33m\u001b[0m\u001b[0m\n\u001b[0;32m    433\u001b[0m         \u001b[1;32mfrom\u001b[0m \u001b[1;33m.\u001b[0m\u001b[0mdata\u001b[0m \u001b[1;32mimport\u001b[0m \u001b[0mdispatch_data_backend\u001b[0m\u001b[1;33m\u001b[0m\u001b[1;33m\u001b[0m\u001b[0m\n\u001b[1;32m--> 434\u001b[1;33m         handle, feature_names, feature_types = dispatch_data_backend(\n\u001b[0m\u001b[0;32m    435\u001b[0m             \u001b[0mdata\u001b[0m\u001b[1;33m,\u001b[0m \u001b[0mmissing\u001b[0m\u001b[1;33m=\u001b[0m\u001b[0mself\u001b[0m\u001b[1;33m.\u001b[0m\u001b[0mmissing\u001b[0m\u001b[1;33m,\u001b[0m\u001b[1;33m\u001b[0m\u001b[1;33m\u001b[0m\u001b[0m\n\u001b[0;32m    436\u001b[0m             \u001b[0mthreads\u001b[0m\u001b[1;33m=\u001b[0m\u001b[0mself\u001b[0m\u001b[1;33m.\u001b[0m\u001b[0mnthread\u001b[0m\u001b[1;33m,\u001b[0m\u001b[1;33m\u001b[0m\u001b[1;33m\u001b[0m\u001b[0m\n",
      "\u001b[1;32m~\\miniconda3\\lib\\site-packages\\xgboost\\data.py\u001b[0m in \u001b[0;36mdispatch_data_backend\u001b[1;34m(data, missing, threads, feature_names, feature_types)\u001b[0m\n\u001b[0;32m    501\u001b[0m         \u001b[1;32mreturn\u001b[0m \u001b[0m_from_tuple\u001b[0m\u001b[1;33m(\u001b[0m\u001b[0mdata\u001b[0m\u001b[1;33m,\u001b[0m \u001b[0mmissing\u001b[0m\u001b[1;33m,\u001b[0m \u001b[0mfeature_names\u001b[0m\u001b[1;33m,\u001b[0m \u001b[0mfeature_types\u001b[0m\u001b[1;33m)\u001b[0m\u001b[1;33m\u001b[0m\u001b[1;33m\u001b[0m\u001b[0m\n\u001b[0;32m    502\u001b[0m     \u001b[1;32mif\u001b[0m \u001b[0m_is_pandas_df\u001b[0m\u001b[1;33m(\u001b[0m\u001b[0mdata\u001b[0m\u001b[1;33m)\u001b[0m\u001b[1;33m:\u001b[0m\u001b[1;33m\u001b[0m\u001b[1;33m\u001b[0m\u001b[0m\n\u001b[1;32m--> 503\u001b[1;33m         return _from_pandas_df(data, missing, threads,\n\u001b[0m\u001b[0;32m    504\u001b[0m                                feature_names, feature_types)\n\u001b[0;32m    505\u001b[0m     \u001b[1;32mif\u001b[0m \u001b[0m_is_pandas_series\u001b[0m\u001b[1;33m(\u001b[0m\u001b[0mdata\u001b[0m\u001b[1;33m)\u001b[0m\u001b[1;33m:\u001b[0m\u001b[1;33m\u001b[0m\u001b[1;33m\u001b[0m\u001b[0m\n",
      "\u001b[1;32m~\\miniconda3\\lib\\site-packages\\xgboost\\data.py\u001b[0m in \u001b[0;36m_from_pandas_df\u001b[1;34m(data, missing, nthread, feature_names, feature_types)\u001b[0m\n\u001b[0;32m    216\u001b[0m \u001b[1;33m\u001b[0m\u001b[0m\n\u001b[0;32m    217\u001b[0m \u001b[1;32mdef\u001b[0m \u001b[0m_from_pandas_df\u001b[0m\u001b[1;33m(\u001b[0m\u001b[0mdata\u001b[0m\u001b[1;33m,\u001b[0m \u001b[0mmissing\u001b[0m\u001b[1;33m,\u001b[0m \u001b[0mnthread\u001b[0m\u001b[1;33m,\u001b[0m \u001b[0mfeature_names\u001b[0m\u001b[1;33m,\u001b[0m \u001b[0mfeature_types\u001b[0m\u001b[1;33m)\u001b[0m\u001b[1;33m:\u001b[0m\u001b[1;33m\u001b[0m\u001b[1;33m\u001b[0m\u001b[0m\n\u001b[1;32m--> 218\u001b[1;33m     data, feature_names, feature_types = _transform_pandas_df(\n\u001b[0m\u001b[0;32m    219\u001b[0m         data, feature_names, feature_types)\n\u001b[0;32m    220\u001b[0m     return _from_numpy_array(data, missing, nthread, feature_names,\n",
      "\u001b[1;32m~\\miniconda3\\lib\\site-packages\\xgboost\\data.py\u001b[0m in \u001b[0;36m_transform_pandas_df\u001b[1;34m(data, feature_names, feature_types, meta, meta_type)\u001b[0m\n\u001b[0;32m    183\u001b[0m         msg = \"\"\"DataFrame.dtypes for data must be int, float or bool.\n\u001b[0;32m    184\u001b[0m                 Did not expect the data types in fields \"\"\"\n\u001b[1;32m--> 185\u001b[1;33m         \u001b[1;32mraise\u001b[0m \u001b[0mValueError\u001b[0m\u001b[1;33m(\u001b[0m\u001b[0mmsg\u001b[0m \u001b[1;33m+\u001b[0m \u001b[1;34m', '\u001b[0m\u001b[1;33m.\u001b[0m\u001b[0mjoin\u001b[0m\u001b[1;33m(\u001b[0m\u001b[0mbad_fields\u001b[0m\u001b[1;33m)\u001b[0m\u001b[1;33m)\u001b[0m\u001b[1;33m\u001b[0m\u001b[1;33m\u001b[0m\u001b[0m\n\u001b[0m\u001b[0;32m    186\u001b[0m \u001b[1;33m\u001b[0m\u001b[0m\n\u001b[0;32m    187\u001b[0m     \u001b[1;32mif\u001b[0m \u001b[0mfeature_names\u001b[0m \u001b[1;32mis\u001b[0m \u001b[1;32mNone\u001b[0m \u001b[1;32mand\u001b[0m \u001b[0mmeta\u001b[0m \u001b[1;32mis\u001b[0m \u001b[1;32mNone\u001b[0m\u001b[1;33m:\u001b[0m\u001b[1;33m\u001b[0m\u001b[1;33m\u001b[0m\u001b[0m\n",
      "\u001b[1;31mValueError\u001b[0m: DataFrame.dtypes for data must be int, float or bool.\n                Did not expect the data types in fields ID, Source, Start_Time, End_Time, Description, Street, Side, City, County, State, Zipcode, Country, Timezone, Airport_Code, Weather_Timestamp, Wind_Direction, Weather_Condition, Sunrise_Sunset, Civil_Twilight, Nautical_Twilight, Astronomical_Twilight"
     ]
    }
   ],
   "source": [
    "model_xgb2 = make_pipeline(\n",
    "            OrdinalEncoder(),\n",
    "            XGBClassifier()\n",
    ")\n",
    "model.fit(X_train2,y_train2)"
   ]
  },
  {
   "cell_type": "code",
   "execution_count": null,
   "metadata": {},
   "outputs": [],
   "source": []
  }
 ],
 "metadata": {
  "kernelspec": {
   "display_name": "Python 3",
   "language": "python",
   "name": "python3"
  },
  "language_info": {
   "codemirror_mode": {
    "name": "ipython",
    "version": 3
   },
   "file_extension": ".py",
   "mimetype": "text/x-python",
   "name": "python",
   "nbconvert_exporter": "python",
   "pygments_lexer": "ipython3",
   "version": "3.8.3"
  }
 },
 "nbformat": 4,
 "nbformat_minor": 4
}
